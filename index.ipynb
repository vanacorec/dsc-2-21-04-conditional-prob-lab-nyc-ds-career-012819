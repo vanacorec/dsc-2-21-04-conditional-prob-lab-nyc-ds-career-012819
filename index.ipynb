{
 "cells": [
  {
   "cell_type": "markdown",
   "metadata": {},
   "source": [
    "# Conditional Probability - Lab"
   ]
  },
  {
   "cell_type": "markdown",
   "metadata": {},
   "source": [
    "## Introduction\n",
    "\n",
    "In order to be ready for real world applications of probability, it is important to understand what happens when probabilities are not independent. Very often, the probability of a certain event depends on other events happening! Let's see how this all works in this lab.\n",
    "\n",
    "## Objectives"
   ]
  },
  {
   "cell_type": "markdown",
   "metadata": {},
   "source": [
    "You will be able to:\n",
    "\n",
    "- Understand and Explain the conditional probability - P(A∩B) = P(A|B) x P(B)\n",
    "- Use the multiplication rule to find the probability of the intersection of two events\n",
    "- Apply the techniques learned in the lesson to simple problems\n"
   ]
  },
  {
   "cell_type": "markdown",
   "metadata": {},
   "source": [
    "## Exercise 1\n",
    "A coin is tossed and a single 6-sided die is rolled. Find the probability of landing on the head side of the coin and rolling a 3 on the die."
   ]
  },
  {
   "cell_type": "code",
   "execution_count": 2,
   "metadata": {},
   "outputs": [
    {
     "data": {
      "text/plain": [
       "0.08333333333333333"
      ]
     },
     "execution_count": 2,
     "metadata": {},
     "output_type": "execute_result"
    }
   ],
   "source": [
    "# Your solution\n",
    "# P(A∩B) = P(A|B) x P(B)\n",
    "\n",
    "p = 1/2 * 1/6\n",
    "p\n",
    "\n"
   ]
  },
  {
   "cell_type": "markdown",
   "metadata": {},
   "source": [
    "## Exercise 2\n",
    "A school survey found that 9 out of 10 students like pizza. If three students are chosen at random **with replacement**, what is the probability that all three students like pizza?"
   ]
  },
  {
   "cell_type": "code",
   "execution_count": 5,
   "metadata": {},
   "outputs": [
    {
     "data": {
      "text/plain": [
       "0.7290000000000001"
      ]
     },
     "execution_count": 5,
     "metadata": {},
     "output_type": "execute_result"
    }
   ],
   "source": [
    "# Your Solution\n",
    "## P(A∩B) = P(A|B) x P(B)\n",
    "\n",
    "p1 = p2 = p3 = 9/10\n",
    "\n",
    "p = p1 * p2 * p3\n",
    "p"
   ]
  },
  {
   "cell_type": "markdown",
   "metadata": {},
   "source": [
    "## Exercise 3\n",
    "70% of your friends like Chocolate flavored ice cream , and 35% like Chocolate AND like Strawberry flavors.\n",
    "\n",
    "What percent of those who like Chocolate also like Strawberry?"
   ]
  },
  {
   "cell_type": "code",
   "execution_count": 7,
   "metadata": {},
   "outputs": [
    {
     "data": {
      "text/plain": [
       "0.5"
      ]
     },
     "execution_count": 7,
     "metadata": {},
     "output_type": "execute_result"
    }
   ],
   "source": [
    "# Your solution  \n",
    "## P(A∩B) = P(A|B) x P(B)\n",
    "## P(A|B) = P (A and B) / P(B) \n",
    "## \n",
    "p = .35 / .70\n",
    "p"
   ]
  },
  {
   "cell_type": "markdown",
   "metadata": {},
   "source": [
    "50% of your friends who like Chocolate also like Strawberry"
   ]
  },
  {
   "cell_type": "markdown",
   "metadata": {},
   "source": [
    "## Exercise 4\n",
    "What is the probability of drawing 2 consecutive Aces from a Deck of cards. "
   ]
  },
  {
   "cell_type": "code",
   "execution_count": 10,
   "metadata": {},
   "outputs": [
    {
     "data": {
      "text/plain": [
       "0.004524886877828055"
      ]
     },
     "execution_count": 10,
     "metadata": {},
     "output_type": "execute_result"
    }
   ],
   "source": [
    "# Your solution \n",
    "    # A = first card is an ace\n",
    "    # B = second card is an ace\n",
    "## P(A ∩ B) = P(A|B) x P(B) = P(B|A) * P(A)\n",
    "## P(A|B) = P (A and B) / P(B) \n",
    "\n",
    "p = (3/51) * (4/52)\n",
    "p\n"
   ]
  },
  {
   "cell_type": "markdown",
   "metadata": {},
   "source": [
    "## Exercise 5\n",
    "In a manufacturing factory that produces a certain product, there are 100 units of the product, 5 of which are defective. We pick three units from the 100 units at random. \n",
    "\n",
    "What is the probability that none of them are defective?\n",
    "Hint: Use chain rule"
   ]
  },
  {
   "cell_type": "code",
   "execution_count": 15,
   "metadata": {},
   "outputs": [
    {
     "data": {
      "text/plain": [
       "0.8559987631416202"
      ]
     },
     "execution_count": 15,
     "metadata": {},
     "output_type": "execute_result"
    }
   ],
   "source": [
    "# Your solution\n",
    "# C = first one is defective = 5/100\n",
    "# B = second\n",
    "# A = third \n",
    "\n",
    "## P(A ∩ B ∩ C ) = P(A|B ∩ C) x P(B|C) * P(C)\n",
    "p = 95/100 * 94/99 * 93/98\n",
    "p\n",
    "\n",
    "\n"
   ]
  },
  {
   "cell_type": "markdown",
   "metadata": {},
   "source": [
    "## Exercise 6"
   ]
  },
  {
   "cell_type": "markdown",
   "metadata": {},
   "source": [
    "Let's consider the example where 2 dice are thrown. Given that **at least one** of the dice has come up on a number higher than 4, what is the probability that the sum is 8?\n",
    "\n",
    "Let i,j be the numbers shown on the dice . Denote events as below:\n",
    "\n",
    "* **Event A is when Either i Or j is 5 or 6** (Keep an eye on either - or)\n",
    "* **Event B is when i + j = 8**\n",
    "\n",
    "\n",
    "* What is the size of sample space Ω ?\n",
    "* What is P(A ∩ B) ?\n",
    "* What is P(A) ?\n",
    "* Use above to calculate P(B|A) ."
   ]
  },
  {
   "cell_type": "code",
   "execution_count": 19,
   "metadata": {},
   "outputs": [
    {
     "data": {
      "text/plain": [
       "0.19999999999999998"
      ]
     },
     "execution_count": 19,
     "metadata": {},
     "output_type": "execute_result"
    }
   ],
   "source": [
    "# Your solution\n",
    "# 11, 12, 13, 14, 15, 16\n",
    "# 21, 22, 23, 24, 25, 26\n",
    "# 31, 32, \n",
    "# 41, \n",
    "# 51, 52, 53, 54, 55, 56\n",
    "# 61, 62, 63, 64, 65, 66\n",
    "\n",
    "# P(A ∩ B) = P(A|B) x P(B) = P(B|A) * P(A)\n",
    "    # P(B|A)  = P(A|B) x P(B) /  P(A) -- not needed here\n",
    "    # P(B|A) = P(A ∩ B) / P(A) \n",
    "    \n",
    "\n",
    "# Sample space = i = [1,2,3,4,5,6] and j = [1,2,3,4,5,6] all combinations \n",
    "        # 36 total combinations \n",
    "# A is either i or j is greated than 4 \n",
    "        # 5 5, 5 6, 6 5, 6 6 \n",
    "# B is i  +  j = 8\n",
    "\n",
    "# P (A) = probability of at least one of the dice being 5 or 6\n",
    "    # 20 combinations out of 36 = 20/36\n",
    "\n",
    "p_A = 20/36\n",
    "p_AandB = 4/36\n",
    "\n",
    "p_B = 5/36 # don't really need thisn\n",
    "\n",
    "\n",
    "\n",
    "\n",
    "\n",
    "p_BgivenA =  p_AandB/ p_A\n",
    "\n",
    "\n",
    "p_BgivenA\n",
    "\n"
   ]
  },
  {
   "cell_type": "markdown",
   "metadata": {},
   "source": [
    "## Exercise 7\n",
    "\n",
    "Let's consider a credit card example. At a supermarket, we randomly select customers and make notes of whether a given customer owns a Visa card (event A) or an Amex credit card (event B). Some customers own both cards.\n",
    "You can assume that:\n",
    "\n",
    "- P(A) = 0.5\n",
    "- P(B) = 0.4\n",
    "- both A and B = 0.25.\n"
   ]
  },
  {
   "cell_type": "markdown",
   "metadata": {},
   "source": [
    "With the knowledge we have about conditional probabilities, compute and interpret the following probabilities:\n",
    "\n",
    "- $P(B \\mid A)$\n",
    "- $P(B'\\mid A)$\n",
    "- $P(A\\mid B)$\n",
    "- $P(A'\\mid B)$\n"
   ]
  },
  {
   "cell_type": "code",
   "execution_count": 28,
   "metadata": {},
   "outputs": [
    {
     "data": {
      "text/plain": [
       "(0.5, 0.5, 0.625, 0.375)"
      ]
     },
     "execution_count": 28,
     "metadata": {},
     "output_type": "execute_result"
    }
   ],
   "source": [
    "# Your solution\n",
    "# P(A ∩ B) = P(A|B) x P(B) = P(B|A) * P(A)\n",
    "\n",
    "p_A = .5\n",
    "p_B = .4\n",
    "p_AandB = .25\n",
    "\n",
    "# P(B|A) = probability of owning an Amex given owning an Visa\n",
    "    # P(B|A) = P(A ∩ B) / P(A)\n",
    "p_BgivenA = p_AandB / p_A\n",
    "\n",
    "\n",
    "# P(B′∣A) = probability of not owning an Amex given owning an Visa\n",
    "    \n",
    "p_notBgivenA = 1 - p_BgivenA\n",
    "\n",
    "# P(A∣B) = probability of owning a Visa given owning an Amex\n",
    "    # P(A|B) = P(A ∩ B) / P(B)\n",
    "p_AgivenB = p_AandB/ p_B\n",
    "\n",
    "# P(A′∣B) = probability of not owning a Visa given owning an Amex\n",
    "p_notAgivenB = 1 - p_AgivenB\n",
    "\n",
    "p_BgivenA, p_notBgivenA, p_AgivenB, p_notAgivenB"
   ]
  },
  {
   "cell_type": "markdown",
   "metadata": {},
   "source": [
    "## Summary \n",
    "\n",
    "In this lab we practiced around conditional probability and its theorem with some simple problems. The key takeaway from this lab is to to be able to identify random events as dependent or independent and calculating the probability of their occurrence using appropriate methods. Next we'll start focusing on the some more conditional probability axioms, building on the knowledge we have thus far. "
   ]
  }
 ],
 "metadata": {
  "kernelspec": {
   "display_name": "Python 3",
   "language": "python",
   "name": "python3"
  },
  "language_info": {
   "codemirror_mode": {
    "name": "ipython",
    "version": 3
   },
   "file_extension": ".py",
   "mimetype": "text/x-python",
   "name": "python",
   "nbconvert_exporter": "python",
   "pygments_lexer": "ipython3",
   "version": "3.6.6"
  }
 },
 "nbformat": 4,
 "nbformat_minor": 2
}
